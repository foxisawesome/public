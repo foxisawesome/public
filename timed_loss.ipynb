{
 "cells": [
  {
   "cell_type": "code",
   "execution_count": 1,
   "id": "deadly-contents",
   "metadata": {},
   "outputs": [],
   "source": [
    "# libs\n",
    "import pandas as pd\n",
    "import numpy as np\n",
    "import time\n",
    "import os\n",
    "import sys\n",
    "\n",
    "sys.path.insert(1, '/Users/ninja/Dropbox/analytics/codes/utility')\n",
    "import data\n",
    "\n",
    "# plotting setting\n",
    "from matplotlib import pyplot as plt\n",
    "%matplotlib inline\n",
    "\n",
    "import seaborn as sns\n",
    "sns.set_style('darkgrid', {'axes.facecolor': '.9'})\n",
    "sns.set_palette(palette='deep')\n",
    "sns_c = sns.color_palette(palette='deep')\n",
    "\n",
    "# display setting\n",
    "from IPython.core.interactiveshell import InteractiveShell\n",
    "InteractiveShell.ast_node_interactivity = \"all\"\n",
    "from IPython.display import display\n",
    "np.set_printoptions(precision=12)"
   ]
  },
  {
   "cell_type": "code",
   "execution_count": 4,
   "id": "addressed-timothy",
   "metadata": {},
   "outputs": [
    {
     "data": {
      "text/plain": [
       "array([[ 1. ,  1. ,  0.1,  0. ],\n",
       "       [ 1. ,  2. ,  0.2,  0. ],\n",
       "       [ 1. ,  3. ,  0.3,  0. ],\n",
       "       [ 1. ,  4. ,  0.4,  0. ],\n",
       "       [ 1. ,  5. ,  0.5,  0. ],\n",
       "       [ 1. ,  6. ,  0.6,  0. ],\n",
       "       [ 1. ,  7. ,  0.7,  0. ],\n",
       "       [ 1. ,  8. ,  0.8,  0. ],\n",
       "       [ 1. ,  9. ,  0.9,  0. ],\n",
       "       [ 1. , 10. ,  1. ,  0. ],\n",
       "       [ 2. ,  1. ,  0.1,  0. ],\n",
       "       [ 2. ,  2. ,  0.2,  0. ],\n",
       "       [ 2. ,  3. ,  0.3,  0. ]])"
      ]
     },
     "execution_count": 4,
     "metadata": {},
     "output_type": "execute_result"
    },
    {
     "data": {
      "text/plain": [
       "array([0.25, 0.15, 0.25, 0.2 , 0.05, 0.05, 0.05, 0.  , 0.  ])"
      ]
     },
     "execution_count": 4,
     "metadata": {},
     "output_type": "execute_result"
    },
    {
     "data": {
      "text/plain": [
       "array([[ 1.   ,  1.   ,  0.1  ,  0.025],\n",
       "       [ 1.   ,  2.   ,  0.2  ,  0.065],\n",
       "       [ 1.   ,  3.   ,  0.3  ,  0.13 ],\n",
       "       [ 1.   ,  4.   ,  0.4  ,  0.215],\n",
       "       [ 1.   ,  5.   ,  0.5  ,  0.305],\n",
       "       [ 1.   ,  6.   ,  0.6  ,  0.4  ],\n",
       "       [ 1.   ,  7.   ,  0.7  ,  0.5  ],\n",
       "       [ 1.   ,  8.   ,  0.8  ,  0.6  ],\n",
       "       [ 1.   ,  9.   ,  0.9  ,  0.7  ],\n",
       "       [ 1.   , 10.   ,  1.   ,  0.8  ],\n",
       "       [ 2.   ,  1.   ,  0.1  ,  0.025],\n",
       "       [ 2.   ,  2.   ,  0.2  ,  0.065],\n",
       "       [ 2.   ,  3.   ,  0.3  ,  0.13 ]])"
      ]
     },
     "execution_count": 4,
     "metadata": {},
     "output_type": "execute_result"
    }
   ],
   "source": [
    "# CECL: flex qtr_no\n",
    "nb_fcst_qtr  = 10\n",
    "nb_timed_qtr = 9\n",
    "nrow = 1\n",
    "loan_id = np.array([1]*nb_fcst_qtr).reshape(nb_fcst_qtr,1)\n",
    "data = np.arange(1,nb_fcst_qtr+1).reshape(nb_fcst_qtr,1)/10\n",
    "qtr_no = np.arange(1,nb_fcst_qtr+1).reshape(nb_fcst_qtr,1)\n",
    "l1 = np.hstack((loan_id,qtr_no,data))\n",
    "l2 = l1[:3,:].copy()\n",
    "l2[:,0] = 2\n",
    "data = np.vstack((l1,l2))\n",
    "data = np.append(data, np.zeros([len(data),1]), 1)\n",
    "data\n",
    "\n",
    "weight = np.array([0.25,0.15,0.25,0.2,0.05,0.05,0.05,0,0])\n",
    "weight\n",
    "\n",
    "def time_loss(data, weight, nb_timed_qtr):\n",
    "    loss_ary  = np.zeros(nb_timed_qtr)\n",
    "    loan_prev = data[0,0] \n",
    "    for i in range(data.shape[0]):         \n",
    "        if data[i,0] != loan_prev:\n",
    "            loss_ary  = np.zeros(nb_timed_qtr)\n",
    "        loss_ary = np.insert(loss_ary, 0, data[i,2])\n",
    "        data[i,3] = np.inner(loss_ary[:nb_timed_qtr],weight)\n",
    "        loan_prev = data[i,0]\n",
    "    return data\n",
    "\n",
    "time_loss(data, weight, nb_timed_qtr)"
   ]
  },
  {
   "cell_type": "code",
   "execution_count": null,
   "id": "russian-mauritius",
   "metadata": {},
   "outputs": [],
   "source": [
    "# nrow = data.shape[0]\n",
    "# out  = np.zeros((nrow*9,3)) \n",
    "# timed_qtr = np.arange(0,9)\n",
    "# for i in range(nrow):\n",
    "#     out[i*nb_timed_qtr:(i+1)*nb_timed_qtr,0] = data[i,0]\n",
    "#     out[i*nb_timed_qtr:(i+1)*nb_timed_qtr,1] = data[i,1] + timed_qtr\n",
    "#     out[i*nb_timed_qtr:(i+1)*nb_timed_qtr,2] = data[i,2] * timed_w\n",
    "# out"
   ]
  }
 ],
 "metadata": {
  "kernelspec": {
   "display_name": "Python 3",
   "language": "python",
   "name": "python3"
  },
  "language_info": {
   "codemirror_mode": {
    "name": "ipython",
    "version": 3
   },
   "file_extension": ".py",
   "mimetype": "text/x-python",
   "name": "python",
   "nbconvert_exporter": "python",
   "pygments_lexer": "ipython3",
   "version": "3.8.8"
  }
 },
 "nbformat": 4,
 "nbformat_minor": 5
}
